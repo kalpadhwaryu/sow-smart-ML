{
 "cells": [
  {
   "cell_type": "code",
   "execution_count": null,
   "source": [
    "#Importing IMP libs\r\n",
    "import numpy as np\r\n",
    "import pandas as pd\r\n",
    "\r\n",
    "import matplotlib.pyplot as plt\r\n",
    "import seaborn as sns\r\n",
    "plt.style.use('fivethirtyeight')\r\n",
    "\r\n",
    "import ipywidgets\r\n",
    "from ipywidgets import interact"
   ],
   "outputs": [],
   "metadata": {}
  },
  {
   "cell_type": "code",
   "execution_count": null,
   "source": [
    "#Reading dataset\r\n",
    "data=pd.read_csv(\"data.csv\")\r\n",
    "data.head()"
   ],
   "outputs": [],
   "metadata": {}
  },
  {
   "cell_type": "code",
   "execution_count": null,
   "source": [
    "#Checking if there are null vules\r\n",
    "data.isnull().sum()\r\n",
    "\r\n",
    "#Total crops that are present\r\n",
    "data['label'].value_counts()"
   ],
   "outputs": [],
   "metadata": {}
  }
 ],
 "metadata": {
  "orig_nbformat": 4,
  "language_info": {
   "name": "python",
   "version": "3.9.5",
   "mimetype": "text/x-python",
   "codemirror_mode": {
    "name": "ipython",
    "version": 3
   },
   "pygments_lexer": "ipython3",
   "nbconvert_exporter": "python",
   "file_extension": ".py"
  },
  "kernelspec": {
   "name": "python3",
   "display_name": "Python 3.9.5 64-bit"
  },
  "interpreter": {
   "hash": "a23c52b2098fe0f3b5a35b407793b8b9664bc4a6c2eccffb07d1f4aa974cb362"
  }
 },
 "nbformat": 4,
 "nbformat_minor": 2
}