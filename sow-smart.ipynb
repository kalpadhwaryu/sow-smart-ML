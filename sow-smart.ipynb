{
 "cells": [
  {
   "cell_type": "code",
   "execution_count": 40,
   "source": [
    "#Importing IMP libs\r\n",
    "import numpy as np\r\n",
    "import pandas as pd\r\n",
    "\r\n",
    "import matplotlib.pyplot as plt\r\n",
    "import seaborn as sns\r\n",
    "plt.style.use('fivethirtyeight')\r\n",
    "\r\n",
    "import ipywidgets\r\n",
    "from ipywidgets import interact"
   ],
   "outputs": [],
   "metadata": {}
  },
  {
   "cell_type": "code",
   "execution_count": 41,
   "source": [
    "#Reading dataset\r\n",
    "data=pd.read_csv(\"data.csv\")\r\n",
    "data.head()"
   ],
   "outputs": [
    {
     "output_type": "execute_result",
     "data": {
      "text/html": [
       "<div>\n",
       "<style scoped>\n",
       "    .dataframe tbody tr th:only-of-type {\n",
       "        vertical-align: middle;\n",
       "    }\n",
       "\n",
       "    .dataframe tbody tr th {\n",
       "        vertical-align: top;\n",
       "    }\n",
       "\n",
       "    .dataframe thead th {\n",
       "        text-align: right;\n",
       "    }\n",
       "</style>\n",
       "<table border=\"1\" class=\"dataframe\">\n",
       "  <thead>\n",
       "    <tr style=\"text-align: right;\">\n",
       "      <th></th>\n",
       "      <th>N</th>\n",
       "      <th>P</th>\n",
       "      <th>K</th>\n",
       "      <th>temperature</th>\n",
       "      <th>humidity</th>\n",
       "      <th>ph</th>\n",
       "      <th>rainfall</th>\n",
       "      <th>label</th>\n",
       "    </tr>\n",
       "  </thead>\n",
       "  <tbody>\n",
       "    <tr>\n",
       "      <th>0</th>\n",
       "      <td>90</td>\n",
       "      <td>42</td>\n",
       "      <td>43</td>\n",
       "      <td>20.879744</td>\n",
       "      <td>82.002744</td>\n",
       "      <td>6.502985</td>\n",
       "      <td>202.935536</td>\n",
       "      <td>rice</td>\n",
       "    </tr>\n",
       "    <tr>\n",
       "      <th>1</th>\n",
       "      <td>85</td>\n",
       "      <td>58</td>\n",
       "      <td>41</td>\n",
       "      <td>21.770462</td>\n",
       "      <td>80.319644</td>\n",
       "      <td>7.038096</td>\n",
       "      <td>226.655537</td>\n",
       "      <td>rice</td>\n",
       "    </tr>\n",
       "    <tr>\n",
       "      <th>2</th>\n",
       "      <td>60</td>\n",
       "      <td>55</td>\n",
       "      <td>44</td>\n",
       "      <td>23.004459</td>\n",
       "      <td>82.320763</td>\n",
       "      <td>7.840207</td>\n",
       "      <td>263.964248</td>\n",
       "      <td>rice</td>\n",
       "    </tr>\n",
       "    <tr>\n",
       "      <th>3</th>\n",
       "      <td>74</td>\n",
       "      <td>35</td>\n",
       "      <td>40</td>\n",
       "      <td>26.491096</td>\n",
       "      <td>80.158363</td>\n",
       "      <td>6.980401</td>\n",
       "      <td>242.864034</td>\n",
       "      <td>rice</td>\n",
       "    </tr>\n",
       "    <tr>\n",
       "      <th>4</th>\n",
       "      <td>78</td>\n",
       "      <td>42</td>\n",
       "      <td>42</td>\n",
       "      <td>20.130175</td>\n",
       "      <td>81.604873</td>\n",
       "      <td>7.628473</td>\n",
       "      <td>262.717340</td>\n",
       "      <td>rice</td>\n",
       "    </tr>\n",
       "  </tbody>\n",
       "</table>\n",
       "</div>"
      ],
      "text/plain": [
       "    N   P   K  temperature   humidity        ph    rainfall label\n",
       "0  90  42  43    20.879744  82.002744  6.502985  202.935536  rice\n",
       "1  85  58  41    21.770462  80.319644  7.038096  226.655537  rice\n",
       "2  60  55  44    23.004459  82.320763  7.840207  263.964248  rice\n",
       "3  74  35  40    26.491096  80.158363  6.980401  242.864034  rice\n",
       "4  78  42  42    20.130175  81.604873  7.628473  262.717340  rice"
      ]
     },
     "metadata": {},
     "execution_count": 41
    }
   ],
   "metadata": {}
  },
  {
   "cell_type": "code",
   "execution_count": 42,
   "source": [
    "#Checking if there are null vules\r\n",
    "data.isnull().sum()\r\n",
    "\r\n",
    "#Total crops that are present\r\n",
    "data['label'].value_counts()"
   ],
   "outputs": [
    {
     "output_type": "execute_result",
     "data": {
      "text/plain": [
       "rice           100\n",
       "maize          100\n",
       "jute           100\n",
       "cotton         100\n",
       "coconut        100\n",
       "papaya         100\n",
       "orange         100\n",
       "apple          100\n",
       "muskmelon      100\n",
       "watermelon     100\n",
       "grapes         100\n",
       "mango          100\n",
       "banana         100\n",
       "pomegranate    100\n",
       "lentil         100\n",
       "blackgram      100\n",
       "mungbean       100\n",
       "mothbeans      100\n",
       "pigeonpeas     100\n",
       "kidneybeans    100\n",
       "chickpea       100\n",
       "coffee         100\n",
       "Name: label, dtype: int64"
      ]
     },
     "metadata": {},
     "execution_count": 42
    }
   ],
   "metadata": {}
  },
  {
   "cell_type": "code",
   "execution_count": 43,
   "source": [
    "#Checking the average values of data\r\n",
    "print(\"Average ratio of nitogen in soil: {0:.2f}\".format(data['N'].mean()))\r\n",
    "print(\"Average ratio of phosphoruos in soil: {0:.2f}\".format(data['P'].mean()))\r\n",
    "print(\"Average ratio of potassium in soil: {0:.2f}\".format(data['K'].mean()))\r\n",
    "print(\"Average temperature in celsius : {0:.2f}\".format(data['temperature'].mean()))\r\n",
    "print(\"Average relative humidity in % : {0:.2f}\".format(data['humidity'].mean()))\r\n",
    "print(\"Average pH value of soil : {0:.2f}\".format(data['ph'].mean()))\r\n",
    "print(\"Average rainfall in the region in mm : {0:.2f}\".format(data['rainfall'].mean()))"
   ],
   "outputs": [
    {
     "output_type": "stream",
     "name": "stdout",
     "text": [
      "Average ratio of nitogen in soil: 50.55\n",
      "Average ratio of phosphoruos in soil: 53.36\n",
      "Average ratio of potassium in soil: 48.15\n",
      "Average temperature in celsius : 25.62\n",
      "Average relative humidity in % : 71.48\n",
      "Average pH value of soil : 6.47\n",
      "Average rainfall in the region in mm : 103.46\n"
     ]
    }
   ],
   "metadata": {}
  },
  {
   "cell_type": "code",
   "execution_count": 44,
   "source": [
    "# Summary of statistics for individual crops\r\n",
    "@interact\r\n",
    "def statSummary(crops=list(data['label'].value_counts().index)):\r\n",
    "    x = data[data['label'] == crops]\r\n",
    "    print(\"----------Stats for Nitrgoen----------\")\r\n",
    "    print(\"Min Nitrogen required :\", x['N'].min())\r\n",
    "    print(\"Avg Nitrogen required :\", x['N'].mean())\r\n",
    "    print(\"Max Nitrogen required :\", x['N'].max())\r\n",
    "    print(\"\\n\")\r\n",
    "\r\n",
    "    print(\"----------Stats for Phosphorous----------\")\r\n",
    "    print(\"Min Phosphorous required :\", x['P'].min())\r\n",
    "    print(\"Avg Phosphorous required :\", x['P'].mean())\r\n",
    "    print(\"Max Phosphorous required :\", x['P'].max())\r\n",
    "    print(\"\\n\")\r\n",
    "\r\n",
    "    print(\"----------Stats for Potassium----------\")\r\n",
    "    print(\"Min Potassium required :\", x['K'].min())\r\n",
    "    print(\"Avg Potassium required :\", x['K'].mean())\r\n",
    "    print(\"Max Potassium required :\", x['K'].max())\r\n",
    "    print(\"\\n\")\r\n",
    "\r\n",
    "    print(\"----------Stats for Temp----------\")\r\n",
    "    print(\"Min Temp required :\", x['temperature'].min())\r\n",
    "    print(\"Avg Temp required :\", x['temperature'].mean())\r\n",
    "    print(\"Max Temp required :\", x['temperature'].max())\r\n",
    "    print(\"\\n\")\r\n",
    "\r\n",
    "    print(\"----------Stats for Humidity----------\")\r\n",
    "    print(\"Min Humidity required :\", x['humidity'].min())\r\n",
    "    print(\"Avg Humidity required :\", x['humidity'].mean())\r\n",
    "    print(\"Max Humidity required :\", x['humidity'].max())\r\n",
    "    print(\"\\n\")\r\n",
    "\r\n",
    "    print(\"----------Stats for pH----------\")\r\n",
    "    print(\"Min pH required :\", x['ph'].min())\r\n",
    "    print(\"Avg pH required :\", x['ph'].mean())\r\n",
    "    print(\"Max pH required :\", x['ph'].max())\r\n",
    "    print(\"\\n\")\r\n",
    "\r\n",
    "    print(\"----------Stats for Rainfall----------\")\r\n",
    "    print(\"Min Rainfall required :\", x['rainfall'].min())\r\n",
    "    print(\"Avg Rainfall required :\", x['rainfall'].mean())\r\n",
    "    print(\"Max Rainfall required :\", x['rainfall'].max())\r\n",
    "    print(\"\\n\")"
   ],
   "outputs": [
    {
     "output_type": "display_data",
     "data": {
      "application/vnd.jupyter.widget-view+json": {
       "version_major": 2,
       "version_minor": 0,
       "model_id": "da42b0879cdc4e13b2740eea087801ec"
      },
      "text/plain": [
       "interactive(children=(Dropdown(description='crops', options=('rice', 'maize', 'jute', 'cotton', 'coconut', 'pa…"
      ]
     },
     "metadata": {}
    }
   ],
   "metadata": {}
  },
  {
   "cell_type": "code",
   "execution_count": 45,
   "source": [
    "#Comparing Avg requirement with average conditons \r\n",
    "@interact\r\n",
    "def compare(conditions=['N','P','K','temperature','ph','humidity','rainfall']):\r\n",
    "    print(\"Avg Value for\", conditions,\"is {0:.2f}\".format(data[conditions].mean()))\r\n",
    "    print(\"\\n\")    \r\n",
    "    print(\"Rice : {0:.2f}\".format(data[(data['label'] == 'rice')][conditions].mean()))\r\n",
    "    print(\"Black Grams : {0:.2f}\".format(data[data['label'] == 'blackgram'][conditions].mean()))\r\n",
    "    print(\"Banana : {0:.2f}\".format(data[(data['label'] == 'banana')][conditions].mean()))\r\n",
    "    print(\"Jute : {0:.2f}\".format(data[data['label'] == 'jute'][conditions].mean()))\r\n",
    "    print(\"Coconut : {0:.2f}\".format(data[(data['label'] == 'coconut')][conditions].mean()))\r\n",
    "    print(\"Apple : {0:.2f}\".format(data[data['label'] == 'apple'][conditions].mean()))\r\n",
    "    print(\"Papaya : {0:.2f}\".format(data[(data['label'] == 'papaya')][conditions].mean()))\r\n",
    "    print(\"Muskmelon : {0:.2f}\".format(data[data['label'] == 'muskmelon'][conditions].mean()))\r\n",
    "    print(\"Grapes : {0:.2f}\".format(data[(data['label'] == 'grapes')][conditions].mean()))\r\n",
    "    print(\"Watermelon : {0:.2f}\".format(data[data['label'] == 'watermelon'][conditions].mean()))\r\n",
    "    print(\"Kidney Beans: {0:.2f}\".format(data[(data['label'] == 'kidneybeans')][conditions].mean()))\r\n",
    "    print(\"Mung Beans : {0:.2f}\".format(data[data['label'] == 'mungbean'][conditions].mean()))\r\n",
    "    print(\"Oranges : {0:.2f}\".format(data[(data['label'] == 'orange')][conditions].mean()))\r\n",
    "    print(\"Chick Peas : {0:.2f}\".format(data[data['label'] == 'chickpea'][conditions].mean()))\r\n",
    "    print(\"Lentils : {0:.2f}\".format(data[(data['label'] == 'lentil')][conditions].mean()))\r\n",
    "    print(\"Cotton : {0:.2f}\".format(data[data['label'] == 'cotton'][conditions].mean()))\r\n",
    "    print(\"Maize : {0:.2f}\".format(data[(data['label'] == 'maize')][conditions].mean()))\r\n",
    "    print(\"Moth Beans : {0:.2f}\".format(data[data['label'] == 'mothbeans'][conditions].mean()))\r\n",
    "    print(\"Pigeon Peas : {0:.2f}\".format(data[(data['label'] == 'pigeonpeas')][conditions].mean()))\r\n",
    "    print(\"Mango : {0:.2f}\".format(data[data['label'] == 'mango'][conditions].mean()))\r\n",
    "    print(\"Pomegranate : {0:.2f}\".format(data[(data['label'] == 'pomegranate')][conditions].mean()))\r\n",
    "    print(\"Coffee : {0:.2f}\".format(data[data['label'] == 'coffee'][conditions].mean()))"
   ],
   "outputs": [
    {
     "output_type": "display_data",
     "data": {
      "application/vnd.jupyter.widget-view+json": {
       "version_major": 2,
       "version_minor": 0,
       "model_id": "28c9e7affea84dceb6d6262f8e5b7ef8"
      },
      "text/plain": [
       "interactive(children=(Dropdown(description='conditions', options=('N', 'P', 'K', 'temperature', 'ph', 'humidit…"
      ]
     },
     "metadata": {}
    }
   ],
   "metadata": {}
  }
 ],
 "metadata": {
  "orig_nbformat": 4,
  "language_info": {
   "name": "python",
   "version": "3.9.5",
   "mimetype": "text/x-python",
   "codemirror_mode": {
    "name": "ipython",
    "version": 3
   },
   "pygments_lexer": "ipython3",
   "nbconvert_exporter": "python",
   "file_extension": ".py"
  },
  "kernelspec": {
   "name": "python3",
   "display_name": "Python 3.9.5 64-bit"
  },
  "interpreter": {
   "hash": "a23c52b2098fe0f3b5a35b407793b8b9664bc4a6c2eccffb07d1f4aa974cb362"
  }
 },
 "nbformat": 4,
 "nbformat_minor": 2
}