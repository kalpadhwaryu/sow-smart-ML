{
 "cells": [
  {
   "cell_type": "code",
   "execution_count": null,
   "source": [
    "#Importing IMP libs\r\n",
    "import numpy as np\r\n",
    "import pandas as pd\r\n",
    "\r\n",
    "import matplotlib.pyplot as plt\r\n",
    "import seaborn as sns\r\n",
    "plt.style.use('fivethirtyeight')\r\n",
    "\r\n",
    "import ipywidgets\r\n",
    "from ipywidgets import interact"
   ],
   "outputs": [],
   "metadata": {}
  },
  {
   "cell_type": "code",
   "execution_count": null,
   "source": [
    "#Reading dataset\r\n",
    "data=pd.read_csv(\"data.csv\")\r\n",
    "data.head()"
   ],
   "outputs": [],
   "metadata": {}
  },
  {
   "cell_type": "code",
   "execution_count": null,
   "source": [
    "#Checking if there are null vules\r\n",
    "data.isnull().sum()\r\n",
    "\r\n",
    "#Total crops that are present\r\n",
    "data['label'].value_counts()"
   ],
   "outputs": [],
   "metadata": {}
  },
  {
   "cell_type": "code",
   "execution_count": null,
   "source": [
    "#Checking the average values of data\r\n",
    "print(\"Average ratio of nitogen in soil: {0:.2f}\".format(data['N'].mean()))\r\n",
    "print(\"Average ratio of phosphoruos in soil: {0:.2f}\".format(data['P'].mean()))\r\n",
    "print(\"Average ratio of potassium in soil: {0:.2f}\".format(data['K'].mean()))\r\n",
    "print(\"Average temperature in celsius : {0:.2f}\".format(data['temperature'].mean()))\r\n",
    "print(\"Average relative humidity in % : {0:.2f}\".format(data['humidity'].mean()))\r\n",
    "print(\"Average pH value of soil : {0:.2f}\".format(data['ph'].mean()))\r\n",
    "print(\"Average rainfall in the region in mm : {0:.2f}\".format(data['rainfall'].mean()))"
   ],
   "outputs": [],
   "metadata": {}
  },
  {
   "cell_type": "code",
   "execution_count": null,
   "source": [
    "# Summary of statistics for individual crops\r\n",
    "@interact\r\n",
    "def statSummary(crops=list(data['label'].value_counts().index)):\r\n",
    "    x = data[data['label'] == crops]\r\n",
    "    print(\"----------Stats for Nitrgoen----------\")\r\n",
    "    print(\"Min Nitrogen required :\", x['N'].min())\r\n",
    "    print(\"Avg Nitrogen required :\", x['N'].mean())\r\n",
    "    print(\"Max Nitrogen required :\", x['N'].max())\r\n",
    "    print(\"\\n\")\r\n",
    "\r\n",
    "    print(\"----------Stats for Phosphorous----------\")\r\n",
    "    print(\"Min Phosphorous required :\", x['P'].min())\r\n",
    "    print(\"Avg Phosphorous required :\", x['P'].mean())\r\n",
    "    print(\"Max Phosphorous required :\", x['P'].max())\r\n",
    "    print(\"\\n\")\r\n",
    "\r\n",
    "    print(\"----------Stats for Potassium----------\")\r\n",
    "    print(\"Min Potassium required :\", x['K'].min())\r\n",
    "    print(\"Avg Potassium required :\", x['K'].mean())\r\n",
    "    print(\"Max Potassium required :\", x['K'].max())\r\n",
    "    print(\"\\n\")\r\n",
    "\r\n",
    "    print(\"----------Stats for Temp----------\")\r\n",
    "    print(\"Min Temp required :\", x['temperature'].min())\r\n",
    "    print(\"Avg Temp required :\", x['temperature'].mean())\r\n",
    "    print(\"Max Temp required :\", x['temperature'].max())\r\n",
    "    print(\"\\n\")\r\n",
    "\r\n",
    "    print(\"----------Stats for Humidity----------\")\r\n",
    "    print(\"Min Humidity required :\", x['humidity'].min())\r\n",
    "    print(\"Avg Humidity required :\", x['humidity'].mean())\r\n",
    "    print(\"Max Humidity required :\", x['humidity'].max())\r\n",
    "    print(\"\\n\")\r\n",
    "\r\n",
    "    print(\"----------Stats for pH----------\")\r\n",
    "    print(\"Min pH required :\", x['ph'].min())\r\n",
    "    print(\"Avg pH required :\", x['ph'].mean())\r\n",
    "    print(\"Max pH required :\", x['ph'].max())\r\n",
    "    print(\"\\n\")\r\n",
    "\r\n",
    "    print(\"----------Stats for Rainfall----------\")\r\n",
    "    print(\"Min Rainfall required :\", x['rainfall'].min())\r\n",
    "    print(\"Avg Rainfall required :\", x['rainfall'].mean())\r\n",
    "    print(\"Max Rainfall required :\", x['rainfall'].max())\r\n",
    "    print(\"\\n\")"
   ],
   "outputs": [],
   "metadata": {}
  }
 ],
 "metadata": {
  "orig_nbformat": 4,
  "language_info": {
   "name": "python",
   "version": "3.9.5",
   "mimetype": "text/x-python",
   "codemirror_mode": {
    "name": "ipython",
    "version": 3
   },
   "pygments_lexer": "ipython3",
   "nbconvert_exporter": "python",
   "file_extension": ".py"
  },
  "kernelspec": {
   "name": "python3",
   "display_name": "Python 3.9.5 64-bit"
  },
  "interpreter": {
   "hash": "a23c52b2098fe0f3b5a35b407793b8b9664bc4a6c2eccffb07d1f4aa974cb362"
  }
 },
 "nbformat": 4,
 "nbformat_minor": 2
}